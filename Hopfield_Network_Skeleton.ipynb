{
 "cells": [
  {
   "cell_type": "code",
   "execution_count": 30,
   "id": "677038cd",
   "metadata": {},
   "outputs": [],
   "source": [
    "import numpy as np\n",
    "import matplotlib.pyplot as plt"
   ]
  },
  {
   "cell_type": "code",
   "execution_count": 31,
   "id": "ef9fd7cf",
   "metadata": {},
   "outputs": [],
   "source": [
    "# Define the sign\n",
    "def sign(x):\n",
    "    return 0"
   ]
  },
  {
   "cell_type": "code",
   "execution_count": 41,
   "id": "43bc5867",
   "metadata": {},
   "outputs": [],
   "source": [
    "# Run network function\n",
    "# Input: The network state and weights\n",
    "# Output: The updated network state and visualization information\n",
    "def run(network, weights):\n",
    "    vis = []\n",
    "    return network, vis"
   ]
  },
  {
   "cell_type": "code",
   "execution_count": 49,
   "id": "5df81e43",
   "metadata": {},
   "outputs": [],
   "source": [
    "n = 10\n",
    "# Initialize the weights\n",
    "\n",
    "# Ensure that there is no self-action\n",
    "\n",
    "# Ensure symmetric weights"
   ]
  },
  {
   "cell_type": "code",
   "execution_count": 50,
   "id": "9cd6b9bf",
   "metadata": {},
   "outputs": [],
   "source": [
    "# Initialize a network state\n",
    "\n",
    "# Run the network\n",
    "\n",
    "# Plot the changes in network state over time"
   ]
  },
  {
   "cell_type": "code",
   "execution_count": 52,
   "id": "fd409134",
   "metadata": {},
   "outputs": [],
   "source": [
    "# Calculate the energy, given the network's state and the weights\n",
    "def calculate_energy(network, weights):\n",
    "    energy = 0.0\n",
    "    return energy\n",
    "\n",
    "print(calculate_energy(network, weights))"
   ]
  },
  {
   "cell_type": "code",
   "execution_count": 55,
   "id": "61ef82f2",
   "metadata": {},
   "outputs": [
    {
     "name": "stdout",
     "output_type": "stream",
     "text": [
      "[1, 1, 1, -1, 1, -1, -1, 1, 1, -1]\n",
      "-21.0\n"
     ]
    }
   ],
   "source": [
    "# Loop over all possible state values and calculate energies\n",
    "# Keep all energies and plot them\n",
    "energies = []\n",
    "min_e = 1000\n",
    "\n",
    "for i in range(int(2**n)):\n",
    "    pnet = [2*int(x)-1 for x in reversed(bin(i)[2:].zfill(n))]\n",
    "    # Fill in the rest here, finding the minimum state value along the way\n",
    "    "
   ]
  },
  {
   "cell_type": "code",
   "execution_count": 1,
   "id": "6664c808",
   "metadata": {},
   "outputs": [
    {
     "ename": "NameError",
     "evalue": "name 'plt' is not defined",
     "output_type": "error",
     "traceback": [
      "\u001b[0;31m---------------------------------------------------------------------------\u001b[0m",
      "\u001b[0;31mNameError\u001b[0m                                 Traceback (most recent call last)",
      "\u001b[0;32m/var/folders/21/q__fgck93vvfv57xw8wq4n9w0000gn/T/ipykernel_95880/888480646.py\u001b[0m in \u001b[0;36m<module>\u001b[0;34m\u001b[0m\n\u001b[0;32m----> 1\u001b[0;31m \u001b[0mplt\u001b[0m\u001b[0;34m.\u001b[0m\u001b[0mplot\u001b[0m\u001b[0;34m(\u001b[0m\u001b[0mrange\u001b[0m\u001b[0;34m(\u001b[0m\u001b[0mint\u001b[0m\u001b[0;34m(\u001b[0m\u001b[0;36m2\u001b[0m\u001b[0;34m**\u001b[0m\u001b[0mn\u001b[0m\u001b[0;34m)\u001b[0m\u001b[0;34m)\u001b[0m\u001b[0;34m,\u001b[0m \u001b[0menergies\u001b[0m\u001b[0;34m)\u001b[0m\u001b[0;34m\u001b[0m\u001b[0;34m\u001b[0m\u001b[0m\n\u001b[0m",
      "\u001b[0;31mNameError\u001b[0m: name 'plt' is not defined"
     ]
    }
   ],
   "source": [
    "plt.plot(range(int(2**n)), energies)"
   ]
  },
  {
   "cell_type": "code",
   "execution_count": 57,
   "id": "4cc5cc9e",
   "metadata": {},
   "outputs": [],
   "source": [
    "# Calculating basins of attraction\n",
    "attractors = {}\n",
    "\n",
    "for i in range(int(2**n)):\n",
    "    pnet = [2*int(x)-1 for x in reversed(bin(i)[2:].zfill(n))]\n",
    "    # Fill in the rest here"
   ]
  },
  {
   "cell_type": "code",
   "execution_count": 2,
   "id": "3bd98328",
   "metadata": {},
   "outputs": [],
   "source": [
    "# Print which points are attractors, their energy values, and\n",
    "# the size of their basins of attraction"
   ]
  },
  {
   "cell_type": "code",
   "execution_count": null,
   "id": "9cede496",
   "metadata": {},
   "outputs": [],
   "source": []
  }
 ],
 "metadata": {
  "kernelspec": {
   "display_name": "Python 3 (ipykernel)",
   "language": "python",
   "name": "python3"
  },
  "language_info": {
   "codemirror_mode": {
    "name": "ipython",
    "version": 3
   },
   "file_extension": ".py",
   "mimetype": "text/x-python",
   "name": "python",
   "nbconvert_exporter": "python",
   "pygments_lexer": "ipython3",
   "version": "3.9.10"
  }
 },
 "nbformat": 4,
 "nbformat_minor": 5
}
